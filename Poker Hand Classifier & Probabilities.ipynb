{
 "cells": [
  {
   "cell_type": "markdown",
   "metadata": {},
   "source": [
    "# **Create a poker hand game and probability simulator**\n",
    "## - Set up Classes for Cards, Decks and Players.  \n",
    "## - Create functions and methods to classify any poker hand and determine the best one given a Player's hand and the board (for Hold'em variants). \n",
    "## - Create other functions to run simulations for individual players to see the probability of their final hand or the probability of any player in a group winning at the end."
   ]
  },
  {
   "cell_type": "markdown",
   "metadata": {},
   "source": [
    "### *Import required packages*"
   ]
  },
  {
   "cell_type": "code",
   "execution_count": 139,
   "metadata": {},
   "outputs": [],
   "source": [
    "import random\n",
    "import uuid\n",
    "from functools import total_ordering\n",
    "from itertools import product, combinations, accumulate\n",
    "import collections\n",
    "import functools\n",
    "import operator\n",
    "import getpass\n",
    "import time"
   ]
  },
  {
   "cell_type": "markdown",
   "metadata": {},
   "source": [
    "### *Set up global lists and dictionaries*"
   ]
  },
  {
   "cell_type": "code",
   "execution_count": 140,
   "metadata": {},
   "outputs": [],
   "source": [
    "CARD_VALS = [\"2\", \"3\", \"4\", \"5\", \"6\", \"7\", \"8\", \"9\", \"10\", \"J\", \"Q\", \"K\", \"A\"]\n",
    "SUITS = [\"Spades\", \"Hearts\", \"Diamonds\", \"Clubs\"]\n",
    "HAND_ORDER_old = {'High card':0, 'One pair':1, 'Two pair':2, 'Three of a kind':3,\n",
    "             'Straight':4, 'Flush':5, 'Full house':6, 'Four of a kind':7, 'Straight flush':8}\n",
    "HAND_ORDER = {v:k for k,v in HAND_ORDER_old.items()}\n",
    "PLAYER_DICT = {} #A dictionary of player.id:player"
   ]
  },
  {
   "cell_type": "markdown",
   "metadata": {},
   "source": [
    "## The **Card** class is set up with a VALUE (from CARD_VALS) and a SUIT"
   ]
  },
  {
   "cell_type": "code",
   "execution_count": 141,
   "metadata": {},
   "outputs": [],
   "source": [
    "@total_ordering\n",
    "class Card:\n",
    "\n",
    "    def __init__(self, val, suit):\n",
    "        self.suit = suit\n",
    "        self.val = val\n",
    "        self.id = uuid.uuid4()\n",
    "        self.index = CARD_VALS.index(val)\n",
    "\n",
    "    def __str__(self):\n",
    "        return \"{} of {}\".format(self.val, self.suit)\n",
    "\n",
    "    def __repr__(self):\n",
    "        return \"Card({}, {})\".format(self.val, self.suit)\n",
    "\n",
    "    def __eq__(self, other):\n",
    "        return self.val == other.val\n",
    "\n",
    "    def __le__(self, other):\n",
    "        return self.index <= other.index\n",
    "    \n",
    "    def __lt__(self, other):\n",
    "        return self.index < other.index"
   ]
  },
  {
   "cell_type": "markdown",
   "metadata": {},
   "source": [
    "## The **Deck** class creates a deck of 52 Cards and establishes a **board**.\n",
    "### It has methods for **shuffling, drawing** cards, **adding** and **removing** cards and **adding to the board**"
   ]
  },
  {
   "cell_type": "code",
   "execution_count": 142,
   "metadata": {},
   "outputs": [],
   "source": [
    "class Deck:\n",
    "\n",
    "    def __init__(self):\n",
    "        self.cards = []\n",
    "        self.board = []\n",
    "        self.setup()\n",
    "\n",
    "    def __len__(self):\n",
    "        return len(self.cards)\n",
    "\n",
    "    def setup(self):\n",
    "        for a, b in product(CARD_VALS, SUITS):\n",
    "            self.cards.append(Card(a, b))\n",
    "        #self.cards = [Card(a, b) for a in CARD_VALS for b in SUITS]\n",
    "\n",
    "    def shuffle(self):\n",
    "        return random.shuffle(self.cards)\n",
    "\n",
    "    def drawcards(self, nbcards=1):\n",
    "        result = []\n",
    "        for i in range(nbcards):\n",
    "            result.append(self.cards.pop())\n",
    "        return result\n",
    "    \n",
    "    def removecards(self, cards):\n",
    "        for each in cards:\n",
    "            self.cards.remove(each)\n",
    "            \n",
    "    def addcards(self, cards):\n",
    "        for each in cards:\n",
    "            self.cards.append(each)\n",
    "            \n",
    "    def addboardcards(self, cards):\n",
    "        for each in cards:\n",
    "            self.board.append(each)\n",
    "    \n",
    "    def removeboardcards(self, cards):\n",
    "        for each in cards:\n",
    "            self.board.remove(each)\n",
    "        self.addcards(cards)"
   ]
  },
  {
   "cell_type": "markdown",
   "metadata": {},
   "source": [
    "## The **Player** class is set up with reference to **Deck** and may be passed a **name** or **initial hand**. It can also generate a uuid to add to the PLAYER_DICT\n",
    "### Player has functions to compare with other players to determine the better one or equality by hand"
   ]
  },
  {
   "cell_type": "code",
   "execution_count": 143,
   "metadata": {},
   "outputs": [],
   "source": [
    "@total_ordering\n",
    "class Player:\n",
    "\n",
    "    def __init__(self, carddeck, name = getpass.getuser(), hand = [], createID = True):\n",
    "        self.name = name\n",
    "        self.hand = []\n",
    "        self.carddeck = carddeck\n",
    "        if len(hand) > 0:\n",
    "            for crd in hand:\n",
    "                self.hand.append(crd)\n",
    "        if createID:\n",
    "            self.id = uuid.uuid4()\n",
    "            PLAYER_DICT[str(self.id)] = self\n",
    "    \n",
    "    def __str__(self):\n",
    "        return \"Player: {}\\nCards: {}\\nPokerhand: {}\".format(self.name, self.hand, self.besthand())\n",
    "\n",
    "    def __repr__(self):\n",
    "        return \"Player({}, {})\".format(self.name, self.hand)\n",
    "        \n",
    "    def __eq__(self, other):\n",
    "        #if they both have the same besthand then they are equal\n",
    "        return self.besthand()[0] == other.besthand()[0]\n",
    "            \n",
    "    \n",
    "    def __gt__(self, other):\n",
    "        if self.besthand()[1] > other.besthand()[1]:\n",
    "            return True\n",
    "        if self.besthand()[1] == other.besthand()[1]:\n",
    "            return self.besthand()[0] > other.besthand()[0]\n",
    "        else:\n",
    "            return False\n",
    "\n",
    "\n",
    "    def getcards(self, nbcards=1):\n",
    "        newcards = self.carddeck.drawcards(nbcards)\n",
    "        for i in newcards:\n",
    "            self.hand.append(i)\n",
    "   \n",
    "\n",
    "    def besthand(self):\n",
    "        '''\n",
    "        This function works out what the best possible hand is for a player given their current hand and the board\n",
    "          player is an instance of Class (Player)\n",
    "          board is a list with contents only of Class (Card)\n",
    "        \n",
    "        It returns a list of [besthand, index], where index is a value from 0 ('High Card') to 8 ('Straight Flush')\n",
    "        '''\n",
    "        cardlist = list(self.hand + self.carddeck.board)\n",
    "\n",
    "        if len(cardlist) < 5:\n",
    "            return 'Not enough cards for a poker hand'\n",
    "\n",
    "        #work out each combination of 5 cards and the type of hand they are, then add that set(pokerhandindex, hand) to a list\n",
    "        handslist = []\n",
    "        for each in combinations(cardlist, 5):\n",
    "            handslist.append((pokerhand(each), each))\n",
    "        \n",
    "        #creating a default dictionary from this list has the keys = pokerhandindex, values = all poker hands of that index\n",
    "        handsdict = collections.defaultdict(list)\n",
    "        for k, v in handslist:\n",
    "            handsdict[k].append(v)\n",
    "        \n",
    "        #the result is the max(hands with the highest pokerhandindex)\n",
    "        pokerhandindex = max(handsdict.keys())\n",
    "        result = handsdict[pokerhandindex]\n",
    "        result = max(map(orderedhand, result))\n",
    "        return [result, pokerhandindex]\n",
    "        #return handslist"
   ]
  },
  {
   "cell_type": "markdown",
   "metadata": {},
   "source": [
    "### The function **pokerhand** returns the type of 5-card poker hand for the list of Cards in **hand** provided"
   ]
  },
  {
   "cell_type": "code",
   "execution_count": 144,
   "metadata": {},
   "outputs": [],
   "source": [
    "def pokerhand(hand):\n",
    "    '''\n",
    "    hand is list of 5 instances of Class (Card)\n",
    "    returns the name of the poker hand you have\n",
    "    '''\n",
    "    if len(hand) != 5:\n",
    "        return None\n",
    "    \n",
    "    #create a collection.Counter dictionary for the card values and the card suits\n",
    "    #This counts the number of times each card appears in the hand and each suit appears in the hand respectively\n",
    "    \n",
    "    card_vals = collections.Counter(v.val for v in hand)\n",
    "    card_suits = collections.Counter(v.suit for v in hand)\n",
    "    result = None\n",
    "\n",
    "    #test for flush. If there are 5 cards of the same suit it's a flush\n",
    "    if max(card_suits.values()) == 5:\n",
    "        result = 5\n",
    "\n",
    "    #test for straight. If the difference of the highest and lowest card values is 4 then it's a straight or test for A-to-5\n",
    "    #first all the cards must be different values:\n",
    "    if max(card_vals.values()) == 1:\n",
    "        #then work out value of highest - lowest index in CARD_VALS\n",
    "        if max(hand).index - min(hand).index == 4:\n",
    "            if result == None:\n",
    "                result = 4\n",
    "            else:\n",
    "                result = 8\n",
    "        elif list(sorted(card_vals.keys())) == ['2','3','4','5','A']:\n",
    "            if result == None:\n",
    "                result = 4\n",
    "            else:\n",
    "                result = 8\n",
    "        else:\n",
    "            if result == None: \n",
    "                result = 0\n",
    "\n",
    "    #test for 4 of a kind\n",
    "    elif max(card_vals.values()) == 4:\n",
    "        result = 7\n",
    "\n",
    "    #test for full house and 3 of a kind\n",
    "    elif max(card_vals.values()) == 3:\n",
    "        if min(card_vals.values()) == 2:\n",
    "            result = 6\n",
    "        else:\n",
    "            result = 6\n",
    "\n",
    "    #test for 1 or 2 pairs\n",
    "    else:\n",
    "        #the only possibilities left are 1 or 2 pair\n",
    "        #count the number of times there is a pair\n",
    "        if list(card_vals.values()).count(2) == 2:\n",
    "            result = 2\n",
    "        else:\n",
    "            result = 1\n",
    "\n",
    "    return result\n"
   ]
  },
  {
   "cell_type": "markdown",
   "metadata": {},
   "source": [
    "### The function **orderedhand** takes in a list of Cards and returns that list in order, high-to-low from Ace-to-2 but keeps pairs, trips, 4-of-a-kind in order first"
   ]
  },
  {
   "cell_type": "code",
   "execution_count": 145,
   "metadata": {},
   "outputs": [],
   "source": [
    "def orderedhand(hand):\n",
    "    carddict={}\n",
    "    #sorted dictionary by value of cards\n",
    "    for c in sorted(hand, reverse=True):\n",
    "        if c.val not in carddict:\n",
    "            carddict[c.val]=[c]\n",
    "        else:\n",
    "            carddict[c.val].append(c)\n",
    "\n",
    "    #now sort by number of cards into a single list\n",
    "\n",
    "    #this step creates a list of lists\n",
    "    result = [carddict[k] for k in sorted(carddict, key=lambda k: len(carddict[k]), reverse=True)]\n",
    "    #this reduces it to a single list\n",
    "    result = functools.reduce(operator.iconcat, result, [])        \n",
    "    return result"
   ]
  },
  {
   "cell_type": "markdown",
   "metadata": {},
   "source": [
    "### The function **handprobs** runs a number of simulations to produce a probability table of the final poker hand for the **player**"
   ]
  },
  {
   "cell_type": "code",
   "execution_count": 146,
   "metadata": {},
   "outputs": [],
   "source": [
    "def handprobs(player, nbextracards=0, nbsims=1000):\n",
    "    '''\n",
    "    Produces a dictionary of probabilities of the final hand given the starting player and board\n",
    "    player is any instance of Class (Player)\n",
    "    deck is an instance of Class (Deck)\n",
    "    board is a list with contents only of Class (Card)\n",
    "    Ensure that the deck has had the Cards removed already in Player.hand and board\n",
    "    nbextracards = number of cards still to draw from the deck to make the player's hand\n",
    "    nbsims = the number of simulations to run\n",
    "    '''\n",
    "    sims = []\n",
    "    for i in range(nbsims):\n",
    "        player.carddeck.shuffle()\n",
    "        newboardcards = player.carddeck.drawcards(nbextracards)\n",
    "        player.carddeck.addboardcards(newboardcards)\n",
    "        sims.append(player.besthand()[1])\n",
    "        player.carddeck.removeboardcards(newboardcards)\n",
    "    result = {HAND_ORDER[k]:'{:.2f}'.format(v/nbsims*100) \n",
    "              for k,v in dict(collections.Counter(sims).most_common(9)).items()}\n",
    "    return result\n"
   ]
  },
  {
   "cell_type": "markdown",
   "metadata": {},
   "source": [
    "### The function **winninghand** returns a **list** of all players with the same best hand being compared"
   ]
  },
  {
   "cell_type": "code",
   "execution_count": 147,
   "metadata": {},
   "outputs": [],
   "source": [
    "def winninghand(*players):\n",
    "    ''' \n",
    "    *players are as many instances of Class (Player) to compare for the winning hand.\n",
    "    This function first works out the best hand of all the players using max(players), \n",
    "    Then returns a list of all players with the same hand as the result of max(players)\n",
    "    '''\n",
    "    mx = max(players)\n",
    "    result = list(plyr for plyr in players if plyr == mx)\n",
    "    return result"
   ]
  },
  {
   "cell_type": "markdown",
   "metadata": {},
   "source": [
    "### The function **comparehandprobs** runs a number of simulations to produce a probability of any one of ***players** winning the hand"
   ]
  },
  {
   "cell_type": "code",
   "execution_count": 166,
   "metadata": {},
   "outputs": [],
   "source": [
    "def comparehandprobs(nbextracards, nbsims, *players):\n",
    "    '''\n",
    "    Given any number of players and an existing deck, the function returns a dictionary of the probability of a player winning\n",
    "    \n",
    "    *players must all be an instance of Class (Player)\n",
    "    Sensible results only if all players have the same Deck\n",
    "    \n",
    "    nbextracards = number of cards still to draw from the deck to make the player's hand\n",
    "    nbsims = the number of simulations to run\n",
    "    '''\n",
    "    commondeck = players[0].carddeck\n",
    "    print('players[0]:', players[0].name)\n",
    "    print('players[1]:', players[1].name)\n",
    "    sims = []\n",
    "    for i in range(nbsims):\n",
    "        print('\\r'+str(i), sep=' ', end='', flush=True)\n",
    "        commondeck.shuffle()\n",
    "        newboardcards = commondeck.drawcards(nbextracards)\n",
    "        commondeck.addboardcards(newboardcards)\n",
    "        winners = winninghand(*players)\n",
    "        #         for plyr in winners:\n",
    "        #             sims.append(str(plyr.id))\n",
    "        if len(winners) == 1:\n",
    "            sims.append(winners[0].name)\n",
    "        else:\n",
    "#             sims.append(str([plyr.name for plyr in winners]))\n",
    "            sims.append(functools.reduce(lambda x,y: x+y.name, winners, ''))\n",
    "        commondeck.removeboardcards(newboardcards)\n",
    "\n",
    "        result = {k:'{:.2f}'.format(v/nbsims*100)\n",
    "               for k,v in dict(collections.Counter(sims)).items()}\n",
    "    return result"
   ]
  },
  {
   "cell_type": "markdown",
   "metadata": {},
   "source": [
    "# Now some testing"
   ]
  },
  {
   "cell_type": "code",
   "execution_count": 149,
   "metadata": {},
   "outputs": [
    {
     "name": "stdout",
     "output_type": "stream",
     "text": [
      "[[Card(5, Clubs), Card(5, Spades), Card(K, Clubs), Card(J, Diamonds), Card(8, Clubs)], 1]\n",
      "45\n"
     ]
    }
   ],
   "source": [
    "mydeck = Deck()\n",
    "mydeck.shuffle()\n",
    "p1 = Player(mydeck, 'Lloyd')\n",
    "p1.getcards(7)\n",
    "print(p1.besthand())\n",
    "print(len(mydeck))"
   ]
  },
  {
   "cell_type": "code",
   "execution_count": 150,
   "metadata": {},
   "outputs": [
    {
     "name": "stdout",
     "output_type": "stream",
     "text": [
      "Player 1 == Player2:\t False\n",
      "Player 1 > Player2:\t True\n",
      "pokerhand(Player1.hand):\t 1\n",
      "Player1.besthand():\t [Card(K, Hearts), Card(K, Hearts), Card(A, Spades), Card(Q, Hearts), Card(J, Hearts)] One pair\n",
      "orderedhand(Player1):\t [Card(K, Hearts), Card(K, Hearts), Card(A, Spades), Card(Q, Hearts), Card(J, Hearts)]\n",
      "\n"
     ]
    }
   ],
   "source": [
    "mydeck = Deck()\n",
    "\n",
    "Player1 = Player(\n",
    "    carddeck = mydeck,\n",
    "    name = 'Player1',\n",
    "    hand = [Card('J','Hearts'), Card('K','Hearts'), Card('Q','Hearts'), Card('K','Hearts'), Card('A', 'Spades')]\n",
    ")\n",
    "\n",
    "\n",
    "Player2 = Player(\n",
    "    carddeck = mydeck,\n",
    "    name = 'Player2',\n",
    "    hand = [Card('A','Hearts'), Card('K','Hearts'), Card('K','Hearts'), Card('J','Hearts'), Card('10','Clubs')]\n",
    ")\n",
    "\n",
    "print('Player 1 == Player2:\\t',Player1 == Player2)\n",
    "print('Player 1 > Player2:\\t',Player1 > Player2)\n",
    "print('pokerhand(Player1.hand):\\t', pokerhand(Player1.hand))\n",
    "print('Player1.besthand():\\t', Player1.besthand()[0], HAND_ORDER[Player1.besthand()[1]])\n",
    "print('orderedhand(Player1):\\t', orderedhand(Player1.hand))\n",
    "\n",
    "print()\n",
    "# print('Player2.pokerhand():\\t',Player2.pokerhand())\n",
    "# print('Player1.orderedhand():\\t',Player1.orderedhand())\n",
    "# print('Player2.orderedhand():\\t',Player2.orderedhand())"
   ]
  },
  {
   "cell_type": "code",
   "execution_count": 151,
   "metadata": {},
   "outputs": [],
   "source": [
    "#Set up some tests\n",
    "testdeck = Deck()\n",
    "TestHands = {\n",
    "    'high_card':Player(testdeck, hand=[Card('A','H'), Card('K','H'), Card('Q','H'), Card('J','H'), Card('9','D')]),\n",
    "    'one_pair':Player(testdeck, hand=[Card('K','S'), Card('K','H'), Card('Q','H'), Card('J','H'), Card('9','H')]),\n",
    "    'two_pair':Player(testdeck, hand=[Card('A','H'), Card('A','C'), Card('Q','H'), Card('Q','S'), Card('9','H')]),\n",
    "    'trips':Player(testdeck, hand=[Card('J','H'), Card('J','D'), Card('J','C'), Card('Q','H'), Card('9','H')]),\n",
    "    'straight':Player(testdeck, hand=[Card('A','H'), Card('K','H'), Card('Q','H'), Card('J','H'), Card('10','S')]),\n",
    "    'low_straight':Player(testdeck, hand=[Card('A','H'), Card('2','H'), Card('3','H'), Card('4','H'), Card('5','H')]),\n",
    "    'flush':Player(testdeck, hand=[Card('A','H'), Card('K','H'), Card('Q','H'), Card('J','H'), Card('9','H')]),\n",
    "    'full_house':Player(testdeck, hand=[Card('J','H'), Card('J','D'), Card('J','C'), Card('Q','H'), Card('Q','S')]),\n",
    "    'four_kind':Player(testdeck, hand=[Card('J','H'), Card('J','D'), Card('J','C'), Card('J','S'), Card('9','H')]),\n",
    "    'straight_flush':Player(testdeck, hand=[Card('A','H'), Card('K','H'), Card('Q','H'), Card('J','H'), Card('10','H')])\n",
    "    }"
   ]
  },
  {
   "cell_type": "code",
   "execution_count": 152,
   "metadata": {},
   "outputs": [
    {
     "name": "stdout",
     "output_type": "stream",
     "text": [
      "Max hand in TestHands is:\n",
      "\t [[Card(A, H), Card(K, H), Card(Q, H), Card(J, H), Card(10, H)], 8] \n",
      "\t [Card(A, H), Card(K, H), Card(Q, H), Card(J, H), Card(10, H)]\n",
      "Min hand in TestHands is:\n",
      "\t [[Card(A, H), Card(K, H), Card(Q, H), Card(J, H), Card(9, D)], 0] \n",
      "\t [Card(A, H), Card(K, H), Card(Q, H), Card(J, H), Card(9, D)]\n"
     ]
    }
   ],
   "source": [
    "maxhand=max(TestHands.values())\n",
    "minhand=min(TestHands.values())\n",
    "print('Max hand in TestHands is:\\n\\t', maxhand.besthand(), '\\n\\t', maxhand.hand)\n",
    "print('Min hand in TestHands is:\\n\\t', minhand.besthand(), '\\n\\t', minhand.hand)"
   ]
  },
  {
   "cell_type": "code",
   "execution_count": 153,
   "metadata": {},
   "outputs": [
    {
     "name": "stdout",
     "output_type": "stream",
     "text": [
      "Player: Lloyd\n",
      "Cards: [Card(J, H), Card(J, D), Card(J, C), Card(Q, H), Card(Q, S)]\n",
      "Pokerhand: [[Card(J, H), Card(J, D), Card(J, C), Card(Q, H), Card(Q, S)], 6]\n"
     ]
    },
    {
     "data": {
      "text/plain": [
       "'Player(Lloyd, [Card(J, H), Card(J, D), Card(J, C), Card(Q, H), Card(Q, S)])'"
      ]
     },
     "execution_count": 153,
     "metadata": {},
     "output_type": "execute_result"
    }
   ],
   "source": [
    "print(TestHands['full_house'])\n",
    "\n",
    "repr(TestHands['full_house'])"
   ]
  },
  {
   "cell_type": "code",
   "execution_count": 154,
   "metadata": {},
   "outputs": [
    {
     "name": "stdout",
     "output_type": "stream",
     "text": [
      "{'Two pair': '39.82', 'One pair': '36.10', 'Full house': '20.16', 'Flush': '2.00', 'Straight': '1.13', 'Four of a kind': '0.78', 'Straight flush': '0.01'}\n",
      "4.7291224002838135\n"
     ]
    }
   ],
   "source": [
    "mydeck = Deck()\n",
    "myhand = [Card('K','Hearts'), Card('K','Spades')]\n",
    "board = []\n",
    "mydeck.removecards(myhand)\n",
    "mydeck.removecards(board)\n",
    "myplayer = Player(carddeck=mydeck, hand=myhand)\n",
    "\n",
    "starttime = time.time()\n",
    "print(handprobs(myplayer, 5, 10000))\n",
    "endtime = time.time()\n",
    "print(endtime-starttime)"
   ]
  },
  {
   "cell_type": "code",
   "execution_count": 155,
   "metadata": {},
   "outputs": [
    {
     "data": {
      "text/plain": [
       "[[Card(J, H), Card(J, D), Card(J, C), Card(Q, H), Card(Q, S)], 6]"
      ]
     },
     "execution_count": 155,
     "metadata": {},
     "output_type": "execute_result"
    }
   ],
   "source": [
    "winninghand(TestHands['flush'], TestHands['full_house'])[0].besthand()"
   ]
  },
  {
   "cell_type": "code",
   "execution_count": 171,
   "metadata": {},
   "outputs": [
    {
     "name": "stdout",
     "output_type": "stream",
     "text": [
      "players[0]: p1\n",
      "players[1]: p2\n",
      "999"
     ]
    },
    {
     "data": {
      "text/plain": [
       "{'p2': '48.20', 'p1p2': '8.50', 'p1': '43.30'}"
      ]
     },
     "execution_count": 171,
     "metadata": {},
     "output_type": "execute_result"
    }
   ],
   "source": [
    "mydeck = Deck()\n",
    "boardcards = [Card('10', 'Diamonds'), Card('K', 'Clubs'), Card('A', 'Diamonds')]\n",
    "# boardcards = []\n",
    "p1hand = [Card('J', 'Diamonds'), Card('3', 'Diamonds')]\n",
    "p2hand = [Card('A', 'Spades'), Card('4', 'Diamonds')]\n",
    "mydeck.removecards(p1hand)\n",
    "mydeck.removecards(p2hand)\n",
    "\n",
    "p1 = Player(name = 'p1', carddeck = mydeck, hand = p1hand)\n",
    "p2 = Player(name = 'p2', carddeck = mydeck, hand = p2hand)\n",
    "mydeck.removecards(boardcards)\n",
    "mydeck.addboardcards(boardcards)\n",
    "\n",
    "comparehandprobs(5, 1000, p1, p2)\n"
   ]
  },
  {
   "cell_type": "code",
   "execution_count": null,
   "metadata": {},
   "outputs": [],
   "source": []
  }
 ],
 "metadata": {
  "kernelspec": {
   "display_name": "Python 3",
   "language": "python",
   "name": "python3"
  },
  "toc": {
   "base_numbering": 1,
   "nav_menu": {},
   "number_sections": true,
   "sideBar": true,
   "skip_h1_title": false,
   "title_cell": "Table of Contents",
   "title_sidebar": "Contents",
   "toc_cell": false,
   "toc_position": {},
   "toc_section_display": true,
   "toc_window_display": false
  },
  "varInspector": {
   "cols": {
    "lenName": 16,
    "lenType": 16,
    "lenVar": 40
   },
   "kernels_config": {
    "python": {
     "delete_cmd_postfix": "",
     "delete_cmd_prefix": "del ",
     "library": "var_list.py",
     "varRefreshCmd": "print(var_dic_list())"
    },
    "r": {
     "delete_cmd_postfix": ") ",
     "delete_cmd_prefix": "rm(",
     "library": "var_list.r",
     "varRefreshCmd": "cat(var_dic_list()) "
    }
   },
   "types_to_exclude": [
    "module",
    "function",
    "builtin_function_or_method",
    "instance",
    "_Feature"
   ],
   "window_display": false
  }
 },
 "nbformat": 4,
 "nbformat_minor": 2
}
